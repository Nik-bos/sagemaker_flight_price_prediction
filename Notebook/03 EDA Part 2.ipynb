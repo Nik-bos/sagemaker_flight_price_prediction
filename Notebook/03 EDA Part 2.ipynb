{
 "cells": [
  {
   "cell_type": "markdown",
   "id": "92c608d0",
   "metadata": {},
   "source": [
    "# Importing Libraries"
   ]
  },
  {
   "cell_type": "code",
   "execution_count": 2,
   "id": "3e6c6966",
   "metadata": {},
   "outputs": [],
   "source": [
    "import pandas as pd\n",
    "import numpy as np\n",
    "import matplotlib.pyplot as plt"
   ]
  },
  {
   "cell_type": "code",
   "execution_count": 3,
   "id": "3e178f90",
   "metadata": {},
   "outputs": [],
   "source": [
    "# Importing training data\n",
    "path = r\"D:\\Nikss\\Projects\\Flight Price Prediction\\Datasets\\train_data.csv\"\n",
    "df = pd.read_csv(path)"
   ]
  },
  {
   "cell_type": "code",
   "execution_count": 4,
   "id": "a766c095",
   "metadata": {},
   "outputs": [
    {
     "data": {
      "text/html": [
       "<div>\n",
       "<style scoped>\n",
       "    .dataframe tbody tr th:only-of-type {\n",
       "        vertical-align: middle;\n",
       "    }\n",
       "\n",
       "    .dataframe tbody tr th {\n",
       "        vertical-align: top;\n",
       "    }\n",
       "\n",
       "    .dataframe thead th {\n",
       "        text-align: right;\n",
       "    }\n",
       "</style>\n",
       "<table border=\"1\" class=\"dataframe\">\n",
       "  <thead>\n",
       "    <tr style=\"text-align: right;\">\n",
       "      <th></th>\n",
       "      <th>airline</th>\n",
       "      <th>date_of_journey</th>\n",
       "      <th>source</th>\n",
       "      <th>destination</th>\n",
       "      <th>dep_time</th>\n",
       "      <th>arrival_time</th>\n",
       "      <th>duration</th>\n",
       "      <th>total_stops</th>\n",
       "      <th>additional_info</th>\n",
       "      <th>price</th>\n",
       "    </tr>\n",
       "  </thead>\n",
       "  <tbody>\n",
       "    <tr>\n",
       "      <th>0</th>\n",
       "      <td>Spicejet</td>\n",
       "      <td>2019-05-01</td>\n",
       "      <td>Banglore</td>\n",
       "      <td>Delhi</td>\n",
       "      <td>21:10:00</td>\n",
       "      <td>00:05:00</td>\n",
       "      <td>175</td>\n",
       "      <td>0.0</td>\n",
       "      <td>No Info</td>\n",
       "      <td>4991</td>\n",
       "    </tr>\n",
       "    <tr>\n",
       "      <th>1</th>\n",
       "      <td>Vistara</td>\n",
       "      <td>2019-06-01</td>\n",
       "      <td>Chennai</td>\n",
       "      <td>Kolkata</td>\n",
       "      <td>17:45:00</td>\n",
       "      <td>20:05:00</td>\n",
       "      <td>140</td>\n",
       "      <td>0.0</td>\n",
       "      <td>No Info</td>\n",
       "      <td>11982</td>\n",
       "    </tr>\n",
       "    <tr>\n",
       "      <th>2</th>\n",
       "      <td>Jet Airways</td>\n",
       "      <td>2019-06-09</td>\n",
       "      <td>Delhi</td>\n",
       "      <td>Cochin</td>\n",
       "      <td>17:30:00</td>\n",
       "      <td>12:35:00</td>\n",
       "      <td>1145</td>\n",
       "      <td>1.0</td>\n",
       "      <td>In-flight meal not included</td>\n",
       "      <td>10262</td>\n",
       "    </tr>\n",
       "    <tr>\n",
       "      <th>3</th>\n",
       "      <td>Air India</td>\n",
       "      <td>2019-05-18</td>\n",
       "      <td>Kolkata</td>\n",
       "      <td>Banglore</td>\n",
       "      <td>12:00:00</td>\n",
       "      <td>18:30:00</td>\n",
       "      <td>1830</td>\n",
       "      <td>2.0</td>\n",
       "      <td>No Info</td>\n",
       "      <td>10361</td>\n",
       "    </tr>\n",
       "    <tr>\n",
       "      <th>4</th>\n",
       "      <td>Jet Airways</td>\n",
       "      <td>2019-03-24</td>\n",
       "      <td>Mumbai</td>\n",
       "      <td>Hyderabad</td>\n",
       "      <td>15:50:00</td>\n",
       "      <td>17:20:00</td>\n",
       "      <td>90</td>\n",
       "      <td>0.0</td>\n",
       "      <td>In-flight meal not included</td>\n",
       "      <td>2228</td>\n",
       "    </tr>\n",
       "  </tbody>\n",
       "</table>\n",
       "</div>"
      ],
      "text/plain": [
       "       airline date_of_journey    source destination  dep_time arrival_time  \\\n",
       "0     Spicejet      2019-05-01  Banglore       Delhi  21:10:00     00:05:00   \n",
       "1      Vistara      2019-06-01   Chennai     Kolkata  17:45:00     20:05:00   \n",
       "2  Jet Airways      2019-06-09     Delhi      Cochin  17:30:00     12:35:00   \n",
       "3    Air India      2019-05-18   Kolkata    Banglore  12:00:00     18:30:00   \n",
       "4  Jet Airways      2019-03-24    Mumbai   Hyderabad  15:50:00     17:20:00   \n",
       "\n",
       "   duration  total_stops              additional_info  price  \n",
       "0       175          0.0                      No Info   4991  \n",
       "1       140          0.0                      No Info  11982  \n",
       "2      1145          1.0  In-flight meal not included  10262  \n",
       "3      1830          2.0                      No Info  10361  \n",
       "4        90          0.0  In-flight meal not included   2228  "
      ]
     },
     "execution_count": 4,
     "metadata": {},
     "output_type": "execute_result"
    }
   ],
   "source": [
    "df.head()"
   ]
  },
  {
   "cell_type": "code",
   "execution_count": 5,
   "id": "3a324945",
   "metadata": {},
   "outputs": [
    {
     "data": {
      "text/plain": [
       "airline             object\n",
       "date_of_journey     object\n",
       "source              object\n",
       "destination         object\n",
       "dep_time            object\n",
       "arrival_time        object\n",
       "duration             int64\n",
       "total_stops        float64\n",
       "additional_info     object\n",
       "price                int64\n",
       "dtype: object"
      ]
     },
     "execution_count": 5,
     "metadata": {},
     "output_type": "execute_result"
    }
   ],
   "source": [
    "df.dtypes"
   ]
  },
  {
   "cell_type": "markdown",
   "id": "511d2ba6",
   "metadata": {},
   "source": [
    "# 2. Fixing data types\n",
    "* convert `date_of_journey`, `dep_time` and `arrival_time` to `datetime` format\n",
    "* convert  `total_stops` as categorical as it is a categorical column"
   ]
  },
  {
   "cell_type": "code",
   "execution_count": 6,
   "id": "5b7682ad",
   "metadata": {},
   "outputs": [],
   "source": [
    "# Converting dtypes of some columns to datetime\n",
    "\n",
    "# convert function\n",
    "def convert_datetime(column_name, format = None, time = False):\n",
    "\n",
    "    if time:\n",
    "        df[column_name] = pd.to_datetime(df[column_name], errors = 'coerce', format = format).dt.time\n",
    "    \n",
    "    else:   \n",
    "        df[column_name] = pd.to_datetime(df[column_name], errors = 'coerce', format = format)\n",
    "\n",
    "\n",
    "# df['date_of_journey'] = pd.to_datetime(df['date_of_journey'], errors='coerce')\n",
    "\n",
    "convert_datetime(column_name = 'date_of_journey')\n",
    "convert_datetime(column_name = 'dep_time', format  = \"%H:%M:%S\", time = True)\n",
    "convert_datetime(column_name = 'arrival_time', format  = \"%H:%M:%S\", time = True)\n",
    "\n",
    "# converting total_stops to categorical column\n",
    "# df['total_stops'] = df['total_stops'].astype('category')\n",
    "\n",
    "# Will do at the time of Training bcz We may need it in EDA"
   ]
  },
  {
   "cell_type": "code",
   "execution_count": 7,
   "id": "e4381881",
   "metadata": {},
   "outputs": [
    {
     "data": {
      "text/plain": [
       "airline                    object\n",
       "date_of_journey    datetime64[ns]\n",
       "source                     object\n",
       "destination                object\n",
       "dep_time                   object\n",
       "arrival_time               object\n",
       "duration                    int64\n",
       "total_stops               float64\n",
       "additional_info            object\n",
       "price                       int64\n",
       "dtype: object"
      ]
     },
     "execution_count": 7,
     "metadata": {},
     "output_type": "execute_result"
    }
   ],
   "source": [
    "df.dtypes\n",
    "\n",
    "# dep_time and arrival_time are converted to datetime.time dtype but here it shows object bcz this is how Pandas work."
   ]
  },
  {
   "cell_type": "code",
   "execution_count": 8,
   "id": "43b57dac",
   "metadata": {},
   "outputs": [
    {
     "data": {
      "text/plain": [
       "datetime.time(21, 10)"
      ]
     },
     "execution_count": 8,
     "metadata": {},
     "output_type": "execute_result"
    }
   ],
   "source": [
    "df['dep_time'][0]\n",
    "\n",
    "# See here, it shows datetime object"
   ]
  },
  {
   "cell_type": "code",
   "execution_count": 9,
   "id": "58644a9e",
   "metadata": {},
   "outputs": [
    {
     "data": {
      "text/html": [
       "<div>\n",
       "<style scoped>\n",
       "    .dataframe tbody tr th:only-of-type {\n",
       "        vertical-align: middle;\n",
       "    }\n",
       "\n",
       "    .dataframe tbody tr th {\n",
       "        vertical-align: top;\n",
       "    }\n",
       "\n",
       "    .dataframe thead th {\n",
       "        text-align: right;\n",
       "    }\n",
       "</style>\n",
       "<table border=\"1\" class=\"dataframe\">\n",
       "  <thead>\n",
       "    <tr style=\"text-align: right;\">\n",
       "      <th></th>\n",
       "      <th>date_of_journey</th>\n",
       "      <th>dep_time</th>\n",
       "      <th>arrival_time</th>\n",
       "    </tr>\n",
       "  </thead>\n",
       "  <tbody>\n",
       "    <tr>\n",
       "      <th>0</th>\n",
       "      <td>2019-05-01</td>\n",
       "      <td>21:10:00</td>\n",
       "      <td>00:05:00</td>\n",
       "    </tr>\n",
       "    <tr>\n",
       "      <th>1</th>\n",
       "      <td>2019-06-01</td>\n",
       "      <td>17:45:00</td>\n",
       "      <td>20:05:00</td>\n",
       "    </tr>\n",
       "    <tr>\n",
       "      <th>2</th>\n",
       "      <td>2019-06-09</td>\n",
       "      <td>17:30:00</td>\n",
       "      <td>12:35:00</td>\n",
       "    </tr>\n",
       "    <tr>\n",
       "      <th>3</th>\n",
       "      <td>2019-05-18</td>\n",
       "      <td>12:00:00</td>\n",
       "      <td>18:30:00</td>\n",
       "    </tr>\n",
       "    <tr>\n",
       "      <th>4</th>\n",
       "      <td>2019-03-24</td>\n",
       "      <td>15:50:00</td>\n",
       "      <td>17:20:00</td>\n",
       "    </tr>\n",
       "    <tr>\n",
       "      <th>...</th>\n",
       "      <td>...</td>\n",
       "      <td>...</td>\n",
       "      <td>...</td>\n",
       "    </tr>\n",
       "    <tr>\n",
       "      <th>7318</th>\n",
       "      <td>2019-05-15</td>\n",
       "      <td>10:20:00</td>\n",
       "      <td>17:35:00</td>\n",
       "    </tr>\n",
       "    <tr>\n",
       "      <th>7319</th>\n",
       "      <td>2019-05-21</td>\n",
       "      <td>10:35:00</td>\n",
       "      <td>21:00:00</td>\n",
       "    </tr>\n",
       "    <tr>\n",
       "      <th>7320</th>\n",
       "      <td>2019-05-01</td>\n",
       "      <td>20:25:00</td>\n",
       "      <td>10:55:00</td>\n",
       "    </tr>\n",
       "    <tr>\n",
       "      <th>7321</th>\n",
       "      <td>2019-06-03</td>\n",
       "      <td>07:00:00</td>\n",
       "      <td>21:00:00</td>\n",
       "    </tr>\n",
       "    <tr>\n",
       "      <th>7322</th>\n",
       "      <td>2019-05-18</td>\n",
       "      <td>22:50:00</td>\n",
       "      <td>04:25:00</td>\n",
       "    </tr>\n",
       "  </tbody>\n",
       "</table>\n",
       "<p>7323 rows × 3 columns</p>\n",
       "</div>"
      ],
      "text/plain": [
       "     date_of_journey  dep_time arrival_time\n",
       "0         2019-05-01  21:10:00     00:05:00\n",
       "1         2019-06-01  17:45:00     20:05:00\n",
       "2         2019-06-09  17:30:00     12:35:00\n",
       "3         2019-05-18  12:00:00     18:30:00\n",
       "4         2019-03-24  15:50:00     17:20:00\n",
       "...              ...       ...          ...\n",
       "7318      2019-05-15  10:20:00     17:35:00\n",
       "7319      2019-05-21  10:35:00     21:00:00\n",
       "7320      2019-05-01  20:25:00     10:55:00\n",
       "7321      2019-06-03  07:00:00     21:00:00\n",
       "7322      2019-05-18  22:50:00     04:25:00\n",
       "\n",
       "[7323 rows x 3 columns]"
      ]
     },
     "execution_count": 9,
     "metadata": {},
     "output_type": "execute_result"
    }
   ],
   "source": [
    "df[['date_of_journey', 'dep_time', 'arrival_time']]"
   ]
  },
  {
   "cell_type": "markdown",
   "id": "69596d00",
   "metadata": {},
   "source": [
    "# 3. Detailed Analysis\n",
    "* Summary\n",
    "* Univariate Plots\n",
    "* Bivariate Plots (w.r.t Target Variables)\n",
    "* Hypothesis Testing\n",
    "* Multivariate Plots\n",
    "* Inspect missinh values and extreme values in depth\n",
    "    * Filter for necessary subsets\n",
    "    * Inspect values of other features\n",
    "* Note observations"
   ]
  },
  {
   "cell_type": "code",
   "execution_count": 10,
   "id": "8bbc036d",
   "metadata": {},
   "outputs": [
    {
     "data": {
      "text/plain": [
       "Index(['airline', 'date_of_journey', 'source', 'destination', 'dep_time',\n",
       "       'arrival_time', 'duration', 'total_stops', 'additional_info', 'price'],\n",
       "      dtype='object')"
      ]
     },
     "execution_count": 10,
     "metadata": {},
     "output_type": "execute_result"
    }
   ],
   "source": [
    "df.columns"
   ]
  },
  {
   "cell_type": "code",
   "execution_count": 14,
   "id": "72997f65",
   "metadata": {},
   "outputs": [],
   "source": [
    "def display_html(size=3, content=\"content\"):\n",
    "  display(HTML(f\"<h{size}>{content}</h{size}>\"))"
   ]
  },
  {
   "cell_type": "code",
   "execution_count": 27,
   "id": "a809d01e",
   "metadata": {},
   "outputs": [],
   "source": [
    "# Airline\n",
    "\n",
    "from IPython.display import display, HTML\n",
    "\n",
    "def cat_summary(df, column):\n",
    "\n",
    "    # title\n",
    "    data = df[column]\n",
    "    \n",
    "    display_html(2, column)\n",
    "    display_html(3, 'Quick Glance:')\n",
    "    display(data)\n",
    "\n",
    "    # meta data\n",
    "    display_html(3, 'Meta Data:')\n",
    "    missing_values = df[column].isnull().sum()\n",
    "    total_values = len(df)\n",
    "    missing_precentage = ((missing_values / total_values) * 100).round(2)\n",
    "    dtype = df[column].dtype\n",
    "    unique_values = df[column].nunique(dropna = True)\n",
    "\n",
    "    print(f\"{'Missing Data':15}: {missing_values} rows ({missing_precentage}%)\")\n",
    "    print(f\"{'Data type':15}: {dtype}\")\n",
    "    print(f\"{'Unique Values':15}: {unique_values} unique values\")"
   ]
  },
  {
   "cell_type": "code",
   "execution_count": 28,
   "id": "d7acc1e1",
   "metadata": {},
   "outputs": [
    {
     "data": {
      "text/html": [
       "<h2>airline</h2>"
      ],
      "text/plain": [
       "<IPython.core.display.HTML object>"
      ]
     },
     "metadata": {},
     "output_type": "display_data"
    },
    {
     "data": {
      "text/html": [
       "<h3>Quick Glance:</h3>"
      ],
      "text/plain": [
       "<IPython.core.display.HTML object>"
      ]
     },
     "metadata": {},
     "output_type": "display_data"
    },
    {
     "data": {
      "text/plain": [
       "0                Spicejet\n",
       "1                 Vistara\n",
       "2             Jet Airways\n",
       "3               Air India\n",
       "4             Jet Airways\n",
       "              ...        \n",
       "7318          Jet Airways\n",
       "7319               Indigo\n",
       "7320          Jet Airways\n",
       "7321    Multiple Carriers\n",
       "7322          Jet Airways\n",
       "Name: airline, Length: 7323, dtype: object"
      ]
     },
     "metadata": {},
     "output_type": "display_data"
    },
    {
     "data": {
      "text/html": [
       "<h3>Meta Data:</h3>"
      ],
      "text/plain": [
       "<IPython.core.display.HTML object>"
      ]
     },
     "metadata": {},
     "output_type": "display_data"
    },
    {
     "name": "stdout",
     "output_type": "stream",
     "text": [
      "Missing Data   : 0 rows (0.0%)\n",
      "Data type      : object\n",
      "Unique Values  : 9 unique values\n"
     ]
    }
   ],
   "source": [
    "cat_summary(df, 'airline')"
   ]
  },
  {
   "cell_type": "code",
   "execution_count": 16,
   "id": "557c5622",
   "metadata": {},
   "outputs": [
    {
     "data": {
      "text/plain": [
       "airline\n",
       "Jet Airways          0.353271\n",
       "Indigo               0.195139\n",
       "Air India            0.162365\n",
       "Multiple Carriers    0.116755\n",
       "Spicejet             0.077427\n",
       "Vistara              0.046839\n",
       "Air Asia             0.030042\n",
       "Goair                0.018025\n",
       "Trujet               0.000137\n",
       "Name: proportion, dtype: float64"
      ]
     },
     "execution_count": 16,
     "metadata": {},
     "output_type": "execute_result"
    }
   ],
   "source": [
    "df['airline'].value_counts(normalize=True)"
   ]
  },
  {
   "cell_type": "code",
   "execution_count": 17,
   "id": "81da4ef0",
   "metadata": {},
   "outputs": [
    {
     "data": {
      "text/plain": [
       "80.0"
      ]
     },
     "execution_count": 17,
     "metadata": {},
     "output_type": "execute_result"
    }
   ],
   "source": []
  },
  {
   "cell_type": "code",
   "execution_count": null,
   "id": "5e3c0398",
   "metadata": {},
   "outputs": [],
   "source": []
  }
 ],
 "metadata": {
  "kernelspec": {
   "display_name": "Python (base)",
   "language": "python",
   "name": "base-python"
  },
  "language_info": {
   "codemirror_mode": {
    "name": "ipython",
    "version": 3
   },
   "file_extension": ".py",
   "mimetype": "text/x-python",
   "name": "python",
   "nbconvert_exporter": "python",
   "pygments_lexer": "ipython3",
   "version": "3.11.3"
  }
 },
 "nbformat": 4,
 "nbformat_minor": 5
}
